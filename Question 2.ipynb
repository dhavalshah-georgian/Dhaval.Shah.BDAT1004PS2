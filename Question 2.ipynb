{
 "cells": [
  {
   "cell_type": "code",
   "execution_count": 10,
   "id": "449d3167",
   "metadata": {},
   "outputs": [
    {
     "name": "stdout",
     "output_type": "stream",
     "text": [
      "25\n",
      "File Question 23.ipynb not found.\n"
     ]
    }
   ],
   "source": [
    "h = open(\"Filelength.txt\").read();\n",
    "exec(h)\n",
    "\n",
    "def fileLength(fileName):\n",
    "    try:\n",
    "        file_length(fileName);\n",
    "    except:\n",
    "        print(f'File {fileName} not found.') \n",
    "\n",
    "fileLength(\"README.md\")\n",
    "fileLength(\"Question 23.ipynb\")"
   ]
  },
  {
   "cell_type": "code",
   "execution_count": null,
   "id": "f32ca796",
   "metadata": {},
   "outputs": [],
   "source": []
  }
 ],
 "metadata": {
  "kernelspec": {
   "display_name": "Python 3 (ipykernel)",
   "language": "python",
   "name": "python3"
  },
  "language_info": {
   "codemirror_mode": {
    "name": "ipython",
    "version": 3
   },
   "file_extension": ".py",
   "mimetype": "text/x-python",
   "name": "python",
   "nbconvert_exporter": "python",
   "pygments_lexer": "ipython3",
   "version": "3.9.7"
  }
 },
 "nbformat": 4,
 "nbformat_minor": 5
}
