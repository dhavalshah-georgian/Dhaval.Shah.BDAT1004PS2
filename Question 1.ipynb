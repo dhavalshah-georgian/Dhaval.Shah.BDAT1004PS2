{
 "cells": [
  {
   "cell_type": "code",
   "execution_count": 4,
   "id": "7e27d34f",
   "metadata": {},
   "outputs": [
    {
     "data": {
      "text/plain": [
       "6"
      ]
     },
     "execution_count": 4,
     "metadata": {},
     "output_type": "execute_result"
    }
   ],
   "source": [
    "a = 0; # Initially a's value is 0\n",
    "\n",
    "def b():\n",
    "    global a; # Calls global value a in current function\n",
    "    a = c(a); # function c called\n",
    "\n",
    "def c(a):\n",
    "    return a + 2; # return input value + 2 \n",
    "\n",
    "b() \n",
    "# first time called function b, input value a = 0 because a is a global variable and lastly a = 2 because a + 2\n",
    "b()\n",
    "# second time function b called, input value a = 2 because a is a global variable and lastly a = 4 because a + 2\n",
    "b()\n",
    "# third time function b called, input value a = 4 because a is a global variable and lastly a = 6 because a + 2\n",
    "a # return global variable a's value which is 6"
   ]
  },
  {
   "cell_type": "code",
   "execution_count": null,
   "id": "25f8c5ed",
   "metadata": {},
   "outputs": [],
   "source": []
  }
 ],
 "metadata": {
  "kernelspec": {
   "display_name": "Python 3 (ipykernel)",
   "language": "python",
   "name": "python3"
  },
  "language_info": {
   "codemirror_mode": {
    "name": "ipython",
    "version": 3
   },
   "file_extension": ".py",
   "mimetype": "text/x-python",
   "name": "python",
   "nbconvert_exporter": "python",
   "pygments_lexer": "ipython3",
   "version": "3.9.7"
  }
 },
 "nbformat": 4,
 "nbformat_minor": 5
}
