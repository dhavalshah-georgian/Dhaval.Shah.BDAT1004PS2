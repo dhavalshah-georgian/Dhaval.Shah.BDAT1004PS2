{
 "cells": [
  {
   "cell_type": "code",
   "execution_count": 39,
   "id": "6eeaaa2a",
   "metadata": {},
   "outputs": [
    {
     "name": "stdout",
     "output_type": "stream",
     "text": [
      "http://reed.cs.depaul.edu/lperkovic/test1.html\n",
      "\thttp://reed.cs.depaul.edu/lperkovic/test2.html\n",
      "\t\thttp://reed.cs.depaul.edu/lperkovic/test4.html\n",
      "\thttp://reed.cs.depaul.edu/lperkovic/test3.html\n",
      "\t\thttp://reed.cs.depaul.edu/lperkovic/test4.html\n"
     ]
    }
   ],
   "source": [
    "from html.parser import HTMLParser\n",
    "from urllib.request import urlopen\n",
    "from urllib.parse import urljoin\n",
    "            \n",
    "class htmlParser(HTMLParser):\n",
    "    def __init__(self, url):\n",
    "        'initializes parser, the url, and a list'\n",
    "        HTMLParser.__init__(self)\n",
    "        self.url = url\n",
    "        self.links = []\n",
    "    \n",
    "    def handle_starttag(self, tag, attrs):\n",
    "        'collects hyperlink URLs in their absolute format'\n",
    "        if tag == 'a':\n",
    "            for attr in attrs:\n",
    "                if attr[0] == 'href':\n",
    "                    # construct absolute URL\n",
    "                    absolute = urljoin(self.url, attr[1])\n",
    "                    if absolute[:4] == 'http': # collect HTTP URLs\n",
    "                        self.links.append(absolute)\n",
    "                        \n",
    "    def getLinks(self):\n",
    "        'returns hyperlinks URLs in their absolute format'\n",
    "        return self.links\n",
    "    \n",
    "\n",
    "\n",
    "def webdir(url, depth, infant):\n",
    "    if depth == 0:\n",
    "        return;\n",
    "    else:\n",
    "        tabStr = '';\n",
    "        for x in range(infant):\n",
    "            tabStr += '\\t';\n",
    "        \n",
    "        print(tabStr + url);\n",
    "        infant = infant + 1;\n",
    "        resource = urlopen(url);\n",
    "        html = resource.read().decode();\n",
    "        parser = htmlParser(url);\n",
    "        parser.feed(html);\n",
    "        links = parser.getLinks();\n",
    "        for link in links:\n",
    "            webdir(link, depth, infant);\n",
    "            depth = depth - 1;\n",
    "\n",
    "webdir('http://reed.cs.depaul.edu/lperkovic/test1.html', 2, 0);"
   ]
  },
  {
   "cell_type": "code",
   "execution_count": null,
   "id": "36851224",
   "metadata": {},
   "outputs": [],
   "source": []
  }
 ],
 "metadata": {
  "kernelspec": {
   "display_name": "Python 3 (ipykernel)",
   "language": "python",
   "name": "python3"
  },
  "language_info": {
   "codemirror_mode": {
    "name": "ipython",
    "version": 3
   },
   "file_extension": ".py",
   "mimetype": "text/x-python",
   "name": "python",
   "nbconvert_exporter": "python",
   "pygments_lexer": "ipython3",
   "version": "3.9.7"
  }
 },
 "nbformat": 4,
 "nbformat_minor": 5
}
