{
 "cells": [
  {
   "cell_type": "code",
   "execution_count": 11,
   "id": "82f3e2c8",
   "metadata": {},
   "outputs": [
    {
     "name": "stdout",
     "output_type": "stream",
     "text": [
      "Enter a number: 15\n",
      "46\n",
      "23.0\n",
      "70.0\n",
      "35.0\n",
      "106.0\n",
      "53.0\n",
      "160.0\n",
      "80.0\n",
      "40.0\n",
      "20.0\n",
      "10.0\n",
      "5.0\n",
      "16.0\n",
      "8.0\n",
      "4.0\n",
      "2.0\n",
      "1.0\n"
     ]
    }
   ],
   "source": [
    "def collatz(x):\n",
    "    if x == 1:\n",
    "        return 0;\n",
    "    elif x%2 == 0:\n",
    "        x = x/2;\n",
    "        print(x);\n",
    "        collatz(x);\n",
    "    else:\n",
    "        x = (3 * x) + 1;\n",
    "        print(x);\n",
    "        collatz(x);\n",
    "\n",
    "number = input(\"Enter a number: \")\n",
    "try:\n",
    "    val = int(number)\n",
    "    if val <= 0:\n",
    "        print(\"This value is not positive integer.\");\n",
    "    else:\n",
    "        collatz(val);\n",
    "except ValueError:\n",
    "    print(\"That's not an int!\")"
   ]
  },
  {
   "cell_type": "code",
   "execution_count": null,
   "id": "94a03277",
   "metadata": {},
   "outputs": [],
   "source": []
  }
 ],
 "metadata": {
  "kernelspec": {
   "display_name": "Python 3 (ipykernel)",
   "language": "python",
   "name": "python3"
  },
  "language_info": {
   "codemirror_mode": {
    "name": "ipython",
    "version": 3
   },
   "file_extension": ".py",
   "mimetype": "text/x-python",
   "name": "python",
   "nbconvert_exporter": "python",
   "pygments_lexer": "ipython3",
   "version": "3.9.7"
  }
 },
 "nbformat": 4,
 "nbformat_minor": 5
}
