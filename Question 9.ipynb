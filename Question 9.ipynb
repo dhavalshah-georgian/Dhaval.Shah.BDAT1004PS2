{
 "cells": [
  {
   "cell_type": "code",
   "execution_count": 14,
   "id": "b751d98f",
   "metadata": {},
   "outputs": [
    {
     "name": "stdout",
     "output_type": "stream",
     "text": [
      "Enter a sentence: The quick brown fox jumps over the lazy dog\n",
      "a) All words in UPPERCASE\n",
      "['THE', 'QUICK', 'BROWN', 'FOX', 'JUMPS', 'OVER', 'THE', 'LAZY', 'DOG']\n",
      "b) All words in LOWERCASE\n",
      "['the', 'quick', 'brown', 'fox', 'jumps', 'over', 'the', 'lazy', 'dog']\n",
      "c) Length of All words : \n",
      "[3, 5, 5, 3, 5, 4, 3, 4, 3]\n",
      "d) Combination of all words : \n",
      "[['THE', 'the', 3], ['QUICK', 'quick', 5], ['BROWN', 'brown', 5], ['FOX', 'fox', 3], ['JUMPS', 'jumps', 5], ['OVER', 'over', 4], ['THE', 'the', 3], ['LAZY', 'lazy', 4], ['DOG', 'dog', 3]]\n",
      "e) Words with atleast 4 charecters : \n",
      "['quick', 'brown', 'jumps', 'over', 'lazy']\n"
     ]
    }
   ],
   "source": [
    "# given sentence = The quick brown fox jumps over the lazy dog\n",
    "sentence = input(\"Enter a sentence: \")\n",
    "words = sentence.split()\n",
    "\n",
    "upperCaseWords = [];\n",
    "lowerCaseWords = [];\n",
    "wordLength = [];\n",
    "combinationWords = [];\n",
    "wordsWith4letters = [];\n",
    "\n",
    "\n",
    "for word in words:\n",
    "    global upperCaseWords, lowerCaseWords, wordLength, combinationWords, wordsWith4letters;\n",
    "    \n",
    "    upperCaseWords.append(word.upper());\n",
    "    lowerCaseWords.append(word.lower());\n",
    "    wordLength.append(len(word));\n",
    "    \n",
    "    arr = [];\n",
    "    arr.append(word.upper());\n",
    "    arr.append(word.lower());\n",
    "    arr.append(len(word));\n",
    "    combinationWords.append(arr);\n",
    "    \n",
    "    if len(word) >= 4:\n",
    "        wordsWith4letters.append(word);\n",
    "\n",
    "print(\"a) All words in UPPERCASE\");\n",
    "print(upperCaseWords);\n",
    "print(\"b) All words in LOWERCASE\");\n",
    "print(lowerCaseWords);\n",
    "print(\"c) Length of All words : \");\n",
    "print(wordLength);\n",
    "print(\"d) Combination of all words : \");\n",
    "print(combinationWords);\n",
    "print(\"e) Words with atleast 4 charecters : \");\n",
    "print(wordsWith4letters);"
   ]
  },
  {
   "cell_type": "code",
   "execution_count": null,
   "id": "0c246797",
   "metadata": {},
   "outputs": [],
   "source": []
  }
 ],
 "metadata": {
  "kernelspec": {
   "display_name": "Python 3 (ipykernel)",
   "language": "python",
   "name": "python3"
  },
  "language_info": {
   "codemirror_mode": {
    "name": "ipython",
    "version": 3
   },
   "file_extension": ".py",
   "mimetype": "text/x-python",
   "name": "python",
   "nbconvert_exporter": "python",
   "pygments_lexer": "ipython3",
   "version": "3.9.7"
  }
 },
 "nbformat": 4,
 "nbformat_minor": 5
}
