{
 "cells": [
  {
   "cell_type": "code",
   "execution_count": 10,
   "id": "2c8121a5",
   "metadata": {},
   "outputs": [
    {
     "name": "stdout",
     "output_type": "stream",
     "text": [
      "Enter a number: 12\n",
      "1100\n"
     ]
    }
   ],
   "source": [
    "def binary(x, bStr):\n",
    "    if x >= 2:\n",
    "        bStr += str(x % 2);\n",
    "        binary(round(x // 2), bStr);\n",
    "    else:\n",
    "        bStr += str(x);\n",
    "        bStr = ''.join(reversed(bStr))\n",
    "        print(bStr);\n",
    "\n",
    "number = input(\"Enter a number: \")\n",
    "try:\n",
    "    val = int(number)\n",
    "    if val < 0:\n",
    "        print(\"This value is not positive integer.\");\n",
    "    else:\n",
    "        binary(val, '');\n",
    "except ValueError:\n",
    "    print(\"That's not an int!\")"
   ]
  },
  {
   "cell_type": "code",
   "execution_count": null,
   "id": "abd8ee88",
   "metadata": {},
   "outputs": [],
   "source": []
  }
 ],
 "metadata": {
  "kernelspec": {
   "display_name": "Python 3 (ipykernel)",
   "language": "python",
   "name": "python3"
  },
  "language_info": {
   "codemirror_mode": {
    "name": "ipython",
    "version": 3
   },
   "file_extension": ".py",
   "mimetype": "text/x-python",
   "name": "python",
   "nbconvert_exporter": "python",
   "pygments_lexer": "ipython3",
   "version": "3.9.7"
  }
 },
 "nbformat": 4,
 "nbformat_minor": 5
}
